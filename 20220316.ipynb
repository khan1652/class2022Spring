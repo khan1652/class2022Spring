{
  "nbformat": 4,
  "nbformat_minor": 0,
  "metadata": {
    "colab": {
      "name": "Untitled11.ipynb",
      "provenance": [],
      "authorship_tag": "ABX9TyNX2M84XvWdFqFopME5wwwo",
      "include_colab_link": true
    },
    "kernelspec": {
      "name": "python3",
      "display_name": "Python 3"
    },
    "language_info": {
      "name": "python"
    }
  },
  "cells": [
    {
      "cell_type": "markdown",
      "metadata": {
        "id": "view-in-github",
        "colab_type": "text"
      },
      "source": [
        "<a href=\"https://colab.research.google.com/github/khan1652/class2022Spring/blob/main/20220316.ipynb\" target=\"_parent\"><img src=\"https://colab.research.google.com/assets/colab-badge.svg\" alt=\"Open In Colab\"/></a>"
      ]
    },
    {
      "cell_type": "code",
      "source": [
        "import numpy as np"
      ],
      "metadata": {
        "id": "6OUVBvLZ-p9I"
      },
      "execution_count": 2,
      "outputs": []
    },
    {
      "cell_type": "code",
      "source": [
        "x = np.array([1,2,3])\n",
        "print(x)\n",
        "print(type(x))\n",
        "print(x.shape)"
      ],
      "metadata": {
        "colab": {
          "base_uri": "https://localhost:8080/"
        },
        "id": "WT5_BVnL-wOs",
        "outputId": "60761162-6ef7-4ff4-be61-9764166f04be"
      },
      "execution_count": 3,
      "outputs": [
        {
          "output_type": "stream",
          "name": "stdout",
          "text": [
            "[1 2 3]\n",
            "<class 'numpy.ndarray'>\n",
            "(3,)\n"
          ]
        }
      ]
    },
    {
      "cell_type": "markdown",
      "source": [
        "**np.array** 는 list를 array로 바꾸어줌.\n",
        "ndarray는 n차 array를 뜻함.\n",
        "(3,)는 3개의 수를 포함한 1차 array라는 뜻임."
      ],
      "metadata": {
        "id": "s_WmwRHJ-7mC"
      }
    },
    {
      "cell_type": "code",
      "source": [
        "x = np.arange(0,10,2)\n",
        "print(x)\n",
        "print(type(x))\n",
        "print(x.shape)"
      ],
      "metadata": {
        "colab": {
          "base_uri": "https://localhost:8080/"
        },
        "id": "h11yZKdi_tFJ",
        "outputId": "8737a09c-cbe9-4c40-9991-48c1dc2d986e"
      },
      "execution_count": 4,
      "outputs": [
        {
          "output_type": "stream",
          "name": "stdout",
          "text": [
            "[0 2 4 6 8]\n",
            "<class 'numpy.ndarray'>\n",
            "(5,)\n"
          ]
        }
      ]
    },
    {
      "cell_type": "markdown",
      "source": [
        "**np.arange**는 0~10(10 미포함) 사이 2만큼 증가한 수들로 이루어진 arrary를 출력함. (5,)는 5개의 수로 이루어진 1차 array라는 뜻임. "
      ],
      "metadata": {
        "id": "4wrIx1qT_7NJ"
      }
    },
    {
      "cell_type": "code",
      "source": [
        "x = np.linspace(0,10,6)\n",
        "print(x)\n",
        "print(type(x))\n",
        "print(x.shape)"
      ],
      "metadata": {
        "colab": {
          "base_uri": "https://localhost:8080/"
        },
        "id": "nWLJIddxBCk6",
        "outputId": "e58ba010-c353-4c78-f18b-2303f9acce43"
      },
      "execution_count": 5,
      "outputs": [
        {
          "output_type": "stream",
          "name": "stdout",
          "text": [
            "[ 0.  2.  4.  6.  8. 10.]\n",
            "<class 'numpy.ndarray'>\n",
            "(6,)\n"
          ]
        }
      ]
    },
    {
      "cell_type": "markdown",
      "source": [
        "**np.linspace**(linear space)는 0~10(10 포함) 사이 같은 간격의 6개 수를 출력함."
      ],
      "metadata": {
        "id": "DyI-ZgfSBRZ6"
      }
    },
    {
      "cell_type": "code",
      "source": [
        "x=np.array([[1,2,3], [4,5,6]])\n",
        "print(x)\n",
        "print(type(x))\n",
        "print(x.shape)"
      ],
      "metadata": {
        "colab": {
          "base_uri": "https://localhost:8080/"
        },
        "id": "zUDqw28nCQic",
        "outputId": "0efb59ca-c95c-44b8-c6c6-1a56526e4213"
      },
      "execution_count": 6,
      "outputs": [
        {
          "output_type": "stream",
          "name": "stdout",
          "text": [
            "[[1 2 3]\n",
            " [4 5 6]]\n",
            "<class 'numpy.ndarray'>\n",
            "(2, 3)\n"
          ]
        }
      ]
    },
    {
      "cell_type": "markdown",
      "source": [
        "끝에 \"[\"가 몇 개인지 세어보면 몇 차 array인지 파악 가능함(2차 array). (2, 3)은 2행 3열의 2차 array라는 뜻임. (행은 가로줄, 열은 세로줄)"
      ],
      "metadata": {
        "id": "purKTnRMGc68"
      }
    },
    {
      "cell_type": "code",
      "source": [
        "x=np.array([[[1,2,3], [4,5,6]], [[7,8,9], [10,11,12]]])\n",
        "print(x)\n",
        "print(type(x))\n",
        "print(x.shape)"
      ],
      "metadata": {
        "colab": {
          "base_uri": "https://localhost:8080/"
        },
        "id": "ZRkBHoh7HU-6",
        "outputId": "b92e1680-db16-4591-d4ee-c1d799d7cca0"
      },
      "execution_count": 7,
      "outputs": [
        {
          "output_type": "stream",
          "name": "stdout",
          "text": [
            "[[[ 1  2  3]\n",
            "  [ 4  5  6]]\n",
            "\n",
            " [[ 7  8  9]\n",
            "  [10 11 12]]]\n",
            "<class 'numpy.ndarray'>\n",
            "(2, 2, 3)\n"
          ]
        }
      ]
    },
    {
      "cell_type": "markdown",
      "source": [
        "(2, 2, 3)은 3차 array라는 것을 보여줌. (2개 덩어리, 2행 3열)\n",
        "[1 2 3 4 5 6] 으로 이루어진 2차 array가 한 층 있고 그 밑에 [7 8 9 10 11 12]로 이루어진 2차 array가 한 층 더 있는 것임(3D)"
      ],
      "metadata": {
        "id": "hBgISNmRKfbU"
      }
    },
    {
      "cell_type": "code",
      "source": [
        "x = np.ones([2, 2, 3])\n",
        "print(x)\n",
        "print(type(x))\n",
        "print(x.shape)"
      ],
      "metadata": {
        "colab": {
          "base_uri": "https://localhost:8080/"
        },
        "id": "e7LmMvOvKrss",
        "outputId": "e21b7f76-03ed-4121-d8e5-7a7dcea38109"
      },
      "execution_count": 8,
      "outputs": [
        {
          "output_type": "stream",
          "name": "stdout",
          "text": [
            "[[[1. 1. 1.]\n",
            "  [1. 1. 1.]]\n",
            "\n",
            " [[1. 1. 1.]\n",
            "  [1. 1. 1.]]]\n",
            "<class 'numpy.ndarray'>\n",
            "(2, 2, 3)\n"
          ]
        }
      ]
    },
    {
      "cell_type": "markdown",
      "source": [
        "**np.ones**는 (2, 2, 3) array를 숫자 \"1\"로 채움."
      ],
      "metadata": {
        "id": "x_FrwSEAK8ZL"
      }
    },
    {
      "cell_type": "code",
      "source": [
        "x = np.zeros([2, 2, 3])\n",
        "print(x)\n",
        "print(type(x))\n",
        "print(x.shape)\n",
        "x.reshape(3, 2, 2)"
      ],
      "metadata": {
        "colab": {
          "base_uri": "https://localhost:8080/"
        },
        "id": "xSnU0hRGLPeV",
        "outputId": "7e603d02-2f7b-4b0a-fbfe-6507dc8a9ff1"
      },
      "execution_count": 9,
      "outputs": [
        {
          "output_type": "stream",
          "name": "stdout",
          "text": [
            "[[[0. 0. 0.]\n",
            "  [0. 0. 0.]]\n",
            "\n",
            " [[0. 0. 0.]\n",
            "  [0. 0. 0.]]]\n",
            "<class 'numpy.ndarray'>\n",
            "(2, 2, 3)\n"
          ]
        },
        {
          "output_type": "execute_result",
          "data": {
            "text/plain": [
              "array([[[0., 0.],\n",
              "        [0., 0.]],\n",
              "\n",
              "       [[0., 0.],\n",
              "        [0., 0.]],\n",
              "\n",
              "       [[0., 0.],\n",
              "        [0., 0.]]])"
            ]
          },
          "metadata": {},
          "execution_count": 9
        }
      ]
    },
    {
      "cell_type": "markdown",
      "source": [
        "**np.zeros**는 array를 숫자 '0'으로 채움. \n",
        "**x.reshape**는 다른 형태로 array를 출력함."
      ],
      "metadata": {
        "id": "bstrBhz4Lh6i"
      }
    },
    {
      "cell_type": "code",
      "source": [
        "np.random.normal(0, 1, [2,3,4])"
      ],
      "metadata": {
        "colab": {
          "base_uri": "https://localhost:8080/"
        },
        "id": "H9EfNTsfO3o2",
        "outputId": "6a0761c1-8a45-4326-9f2e-0e63712c5856"
      },
      "execution_count": 10,
      "outputs": [
        {
          "output_type": "execute_result",
          "data": {
            "text/plain": [
              "array([[[ 1.22481552,  0.00239451,  1.88234062, -0.20919574],\n",
              "        [-1.82014897,  0.72014476,  0.8532948 , -0.03804571],\n",
              "        [ 0.7023296 , -0.27230881, -0.24039883, -0.12536681]],\n",
              "\n",
              "       [[ 1.34857087, -0.3598629 , -0.05095079,  0.47895555],\n",
              "        [ 0.14242565, -0.52517768,  0.82476855,  2.0908202 ],\n",
              "        [-0.0308488 , -0.14994694,  0.91470922,  1.87825359]]])"
            ]
          },
          "metadata": {},
          "execution_count": 10
        }
      ]
    },
    {
      "cell_type": "markdown",
      "source": [
        "numpy(패키지) 안에 radom(서브 디렉토리) 안에 normal(함수).\n",
        "(0, 1, [2,3,4])에서 0은 mean(평균) 1은 standard deviation(표준편차)을 뜻함.\n",
        "normal distribution(정규분포)를 이루는 random number(난수)를 nd array로 출력함."
      ],
      "metadata": {
        "id": "0TUeTosdP4hX"
      }
    },
    {
      "cell_type": "code",
      "source": [
        "import matplotlib.pyplot as plt"
      ],
      "metadata": {
        "id": "mZq3aXGXVVih"
      },
      "execution_count": 12,
      "outputs": []
    },
    {
      "cell_type": "code",
      "source": [
        "x = np.random.normal(0, 1, 100)\n",
        "print(x)\n",
        "plt.hist(x, bins=10)"
      ],
      "metadata": {
        "colab": {
          "base_uri": "https://localhost:8080/",
          "height": 670
        },
        "id": "MWhHVgZ5VZnN",
        "outputId": "a3a9333f-4247-4c5e-dd35-c799dacfa192"
      },
      "execution_count": 13,
      "outputs": [
        {
          "output_type": "stream",
          "name": "stdout",
          "text": [
            "[ 0.63306579 -0.42646534  0.4852244   1.6991417  -0.76695891 -0.20556474\n",
            " -0.13248358  0.03772413  1.62815491 -0.08792167 -0.70945453 -0.80857997\n",
            "  0.56078734 -0.99550395 -1.84080136  1.16901455 -0.89037783  0.58417877\n",
            " -0.11439749 -1.47257269  0.98977125 -0.07532648  1.02583737  1.25120814\n",
            " -1.23210907 -1.14551989  0.22567353 -1.19814393 -1.77436701  1.06449353\n",
            " -1.72873264  0.64401003  0.93804755  0.8470381  -1.39918166  0.64900622\n",
            "  0.14141963 -0.37427052  0.06547366  0.45960994 -0.53100117  0.5962399\n",
            "  0.30683305 -0.85762285 -0.05140645  0.99318414 -0.76970984  0.75624676\n",
            "  0.36340371  1.02497021 -0.01757876 -0.23142267 -0.29025282 -1.91746582\n",
            " -2.01177302 -0.65220697 -1.59347045 -1.46546465 -0.9565194   0.09058122\n",
            "  0.04885964 -2.60120032  0.48709347  1.6471206   0.70124398  0.00738339\n",
            "  1.10983215  0.67439378  1.03819037 -0.39477289 -0.71194357  1.33806233\n",
            " -0.03827511  0.01820442 -0.87231849  0.0892778   1.46520896 -2.04907351\n",
            " -0.57362846 -1.08207972  1.12229684 -0.54930509 -0.55176853  0.76269508\n",
            "  0.32835282  0.6444092  -1.07954929  1.06411746 -0.5812075   0.69600107\n",
            " -0.05792751 -0.18759758 -0.79468695 -0.37634356  0.37389337  1.12498522\n",
            " -1.09675106 -1.70477601  0.07140597  0.45986572]\n"
          ]
        },
        {
          "output_type": "execute_result",
          "data": {
            "text/plain": [
              "(array([ 1.,  5.,  6.,  9., 14., 15., 15., 16., 14.,  5.]),\n",
              " array([-2.60120032, -2.17116612, -1.74113192, -1.31109772, -0.88106351,\n",
              "        -0.45102931, -0.02099511,  0.40903909,  0.83907329,  1.26910749,\n",
              "         1.6991417 ]),\n",
              " <a list of 10 Patch objects>)"
            ]
          },
          "metadata": {},
          "execution_count": 13
        },
        {
          "output_type": "display_data",
          "data": {
            "text/plain": [
              "<Figure size 432x288 with 1 Axes>"
            ],
            "image/png": "[encoded data removed]"
          },
          "metadata": {
            "needs_background": "light"
          }
        }
      ]
    },
    {
      "cell_type": "markdown",
      "source": [
        "(0, 1, 100)는 100개의 숫자로 이루어진 1d array를 출력함. **plt.hist**는 histogram을 출력함. bins는 히스토그램에 통이 몇 개인지를 의미함."
      ],
      "metadata": {
        "id": "yTYp1a-IWQrO"
      }
    },
    {
      "cell_type": "code",
      "source": [
        "plt.figure()\n",
        "\n",
        "theta1 = np.linspace(0, 2*np.pi, 100)\n",
        "s1 = np.sin(theta1)\n",
        "theta2 = np.linspace(0, 2*np.pi, 100) + np.pi/2\n",
        "s2 = np.sin(theta2)\n",
        "\n",
        "plt.subplot(2, 1, 1)\n",
        "plt.plot(theta1, s1, '.')\n",
        "plt.subplot(2, 1, 2)\n",
        "plt.plot(theta2, s2, '.')"
      ],
      "metadata": {
        "colab": {
          "base_uri": "https://localhost:8080/",
          "height": 283
        },
        "id": "GoC_XRFDXZnc",
        "outputId": "183a83a7-3181-4d73-87da-1149ae54e478"
      },
      "execution_count": 14,
      "outputs": [
        {
          "output_type": "execute_result",
          "data": {
            "text/plain": [
              "[<matplotlib.lines.Line2D at 0x7ff5673c2d90>]"
            ]
          },
          "metadata": {},
          "execution_count": 14
        },
        {
          "output_type": "display_data",
          "data": {
            "text/plain": [
              "<Figure size 432x288 with 2 Axes>"
            ],
            "image/png": "[encoded data removed]"
          },
          "metadata": {
            "needs_background": "light"
          }
        }
      ]
    }
  ]
}