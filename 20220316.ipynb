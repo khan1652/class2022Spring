{
  "nbformat": 4,
  "nbformat_minor": 0,
  "metadata": {
    "colab": {
      "name": "Untitled11.ipynb의 사본",
      "provenance": [],
      "authorship_tag": "ABX9TyMjGhambxsjH4R6yKwy50DR",
      "include_colab_link": true
    },
    "kernelspec": {
      "name": "python3",
      "display_name": "Python 3"
    },
    "language_info": {
      "name": "python"
    }
  },
  "cells": [
    {
      "cell_type": "markdown",
      "metadata": {
        "id": "view-in-github",
        "colab_type": "text"
      },
      "source": [
        "<a href=\"https://colab.research.google.com/github/khan1652/class2022Spring/blob/main/20220316.ipynb\" target=\"_parent\"><img src=\"https://colab.research.google.com/assets/colab-badge.svg\" alt=\"Open In Colab\"/></a>"
      ]
    },
    {
      "cell_type": "code",
      "source": [
        "import numpy as np\n",
        "n = np.random.randn(100)\n",
        "print(n)"
      ],
      "metadata": {
        "id": "kf7OyBjeGbrl"
      },
      "execution_count": null,
      "outputs": []
    },
    {
      "cell_type": "markdown",
      "source": [
        "n에 평균이 0이고 표준편차가 1인 정규분포를 이루는 100개의 난수를 저장함. 난수이기 때문에 이를 다시 돌린 이후 히스토그램을 만들면 다른 표가 형성됨."
      ],
      "metadata": {
        "id": "bqp_J8DbGrDw"
      }
    },
    {
      "cell_type": "code",
      "source": [
        "import matplotlib\n",
        "matplotlib.pyplot.hist(n)"
      ],
      "metadata": {
        "id": "ALOPttxtG4gv",
        "outputId": "5827ef0d-3ea7-43fd-c944-843f6c5acb02",
        "colab": {
          "base_uri": "https://localhost:8080/",
          "height": 357
        }
      },
      "execution_count": null,
      "outputs": [
        {
          "output_type": "execute_result",
          "data": {
            "text/plain": [
              "(array([ 1.,  5., 12., 22., 21., 26.,  6.,  3.,  2.,  2.]),\n",
              " array([-2.72349827, -2.08816563, -1.45283298, -0.81750034, -0.1821677 ,\n",
              "         0.45316494,  1.08849758,  1.72383022,  2.35916286,  2.9944955 ,\n",
              "         3.62982814]),\n",
              " <a list of 10 Patch objects>)"
            ]
          },
          "metadata": {},
          "execution_count": 11
        },
        {
          "output_type": "display_data",
          "data": {
            "text/plain": [
              "<Figure size 432x288 with 1 Axes>"
            ],
            "image/png": "[encoded data removed]"
          },
          "metadata": {
            "needs_background": "light"
          }
        }
      ]
    },
    {
      "cell_type": "code",
      "source": [
        "import matplotlib.pyplot \n",
        "matplotlib.pyplot.hist(n)\n"
      ],
      "metadata": {
        "id": "CR5CZSOCIJQz"
      },
      "execution_count": null,
      "outputs": []
    },
    {
      "cell_type": "code",
      "source": [
        "import matplotlib.pyplot as plt\n",
        "plt.hist(n)"
      ],
      "metadata": {
        "id": "nI9bGEfzISBd"
      },
      "execution_count": null,
      "outputs": []
    },
    {
      "cell_type": "code",
      "source": [
        "from matplotlib import pyplot\n",
        "pyplot.hist(n)"
      ],
      "metadata": {
        "id": "qh1q-BfvIW-_"
      },
      "execution_count": null,
      "outputs": []
    },
    {
      "cell_type": "code",
      "source": [
        "from matplotlib.pyplot import hist\n",
        "hist(n)"
      ],
      "metadata": {
        "id": "8tYspxiMIbzs"
      },
      "execution_count": null,
      "outputs": []
    },
    {
      "cell_type": "markdown",
      "source": [
        "위 표현들은 다 같은 의미임."
      ],
      "metadata": {
        "id": "6DNsuH8vIsZh"
      }
    },
    {
      "cell_type": "code",
      "source": [
        "import numpy as np"
      ],
      "metadata": {
        "id": "6OUVBvLZ-p9I"
      },
      "execution_count": null,
      "outputs": []
    },
    {
      "cell_type": "code",
      "source": [
        "x = np.array([1,2,3])\n",
        "print(x)\n",
        "print(type(x))\n",
        "print(x.shape)"
      ],
      "metadata": {
        "colab": {
          "base_uri": "https://localhost:8080/"
        },
        "id": "WT5_BVnL-wOs",
        "outputId": "60761162-6ef7-4ff4-be61-9764166f04be"
      },
      "execution_count": null,
      "outputs": [
        {
          "output_type": "stream",
          "name": "stdout",
          "text": [
            "[1 2 3]\n",
            "<class 'numpy.ndarray'>\n",
            "(3,)\n"
          ]
        }
      ]
    },
    {
      "cell_type": "markdown",
      "source": [
        "**np.array** 는 list를 array로 바꾸어줌.\n",
        "ndarray는 n차 array를 뜻함.\n",
        "(3,)는 3개의 수를 포함한 1차 array라는 뜻임."
      ],
      "metadata": {
        "id": "s_WmwRHJ-7mC"
      }
    },
    {
      "cell_type": "code",
      "source": [
        "x = np.arange(0,10,2)\n",
        "print(x)\n",
        "print(type(x))\n",
        "print(x.shape)"
      ],
      "metadata": {
        "colab": {
          "base_uri": "https://localhost:8080/"
        },
        "id": "h11yZKdi_tFJ",
        "outputId": "8737a09c-cbe9-4c40-9991-48c1dc2d986e"
      },
      "execution_count": null,
      "outputs": [
        {
          "output_type": "stream",
          "name": "stdout",
          "text": [
            "[0 2 4 6 8]\n",
            "<class 'numpy.ndarray'>\n",
            "(5,)\n"
          ]
        }
      ]
    },
    {
      "cell_type": "markdown",
      "source": [
        "**np.arange**는 0~10(10 미포함) 사이 2만큼 증가한 수들로 이루어진 arrary를 출력함. (5,)는 5개의 수로 이루어진 1차 array라는 뜻임. "
      ],
      "metadata": {
        "id": "4wrIx1qT_7NJ"
      }
    },
    {
      "cell_type": "code",
      "source": [
        "x = np.linspace(0,10,6)\n",
        "print(x)\n",
        "print(type(x))\n",
        "print(x.shape)"
      ],
      "metadata": {
        "colab": {
          "base_uri": "https://localhost:8080/"
        },
        "id": "nWLJIddxBCk6",
        "outputId": "e58ba010-c353-4c78-f18b-2303f9acce43"
      },
      "execution_count": null,
      "outputs": [
        {
          "output_type": "stream",
          "name": "stdout",
          "text": [
            "[ 0.  2.  4.  6.  8. 10.]\n",
            "<class 'numpy.ndarray'>\n",
            "(6,)\n"
          ]
        }
      ]
    },
    {
      "cell_type": "markdown",
      "source": [
        "**np.linspace**(linear space)는 0~10(10 포함) 사이 같은 간격의 6개 수를 출력함."
      ],
      "metadata": {
        "id": "DyI-ZgfSBRZ6"
      }
    },
    {
      "cell_type": "code",
      "source": [
        "x=np.array([[1,2,3], [4,5,6]])\n",
        "print(x)\n",
        "print(type(x))\n",
        "print(x.shape)"
      ],
      "metadata": {
        "colab": {
          "base_uri": "https://localhost:8080/"
        },
        "id": "zUDqw28nCQic",
        "outputId": "0efb59ca-c95c-44b8-c6c6-1a56526e4213"
      },
      "execution_count": null,
      "outputs": [
        {
          "output_type": "stream",
          "name": "stdout",
          "text": [
            "[[1 2 3]\n",
            " [4 5 6]]\n",
            "<class 'numpy.ndarray'>\n",
            "(2, 3)\n"
          ]
        }
      ]
    },
    {
      "cell_type": "markdown",
      "source": [
        "끝에 \"[\"가 몇 개인지 세어보면 몇 차 array인지 파악 가능함(2차 array). (2, 3)은 2행 3열의 2차 array라는 뜻임. (행은 가로줄, 열은 세로줄)"
      ],
      "metadata": {
        "id": "purKTnRMGc68"
      }
    },
    {
      "cell_type": "code",
      "source": [
        "x=np.array([[[1,2,3], [4,5,6]], [[7,8,9], [10,11,12]]])\n",
        "print(x)\n",
        "print(type(x))\n",
        "print(x.shape)"
      ],
      "metadata": {
        "colab": {
          "base_uri": "https://localhost:8080/"
        },
        "id": "ZRkBHoh7HU-6",
        "outputId": "b92e1680-db16-4591-d4ee-c1d799d7cca0"
      },
      "execution_count": null,
      "outputs": [
        {
          "output_type": "stream",
          "name": "stdout",
          "text": [
            "[[[ 1  2  3]\n",
            "  [ 4  5  6]]\n",
            "\n",
            " [[ 7  8  9]\n",
            "  [10 11 12]]]\n",
            "<class 'numpy.ndarray'>\n",
            "(2, 2, 3)\n"
          ]
        }
      ]
    },
    {
      "cell_type": "markdown",
      "source": [
        "(2, 2, 3)은 3차 array라는 것을 보여줌. (2개 덩어리, 2행 3열)\n",
        "[1 2 3 4 5 6] 으로 이루어진 2차 array가 한 층 있고 그 밑에 [7 8 9 10 11 12]로 이루어진 2차 array가 한 층 더 있는 것임(3D)"
      ],
      "metadata": {
        "id": "hBgISNmRKfbU"
      }
    },
    {
      "cell_type": "code",
      "source": [
        "x = np.ones([2, 2, 3])\n",
        "print(x)\n",
        "print(type(x))\n",
        "print(x.shape)"
      ],
      "metadata": {
        "colab": {
          "base_uri": "https://localhost:8080/"
        },
        "id": "e7LmMvOvKrss",
        "outputId": "e21b7f76-03ed-4121-d8e5-7a7dcea38109"
      },
      "execution_count": null,
      "outputs": [
        {
          "output_type": "stream",
          "name": "stdout",
          "text": [
            "[[[1. 1. 1.]\n",
            "  [1. 1. 1.]]\n",
            "\n",
            " [[1. 1. 1.]\n",
            "  [1. 1. 1.]]]\n",
            "<class 'numpy.ndarray'>\n",
            "(2, 2, 3)\n"
          ]
        }
      ]
    },
    {
      "cell_type": "markdown",
      "source": [
        "**np.ones**는 (2, 2, 3) array를 숫자 \"1\"로 채움."
      ],
      "metadata": {
        "id": "x_FrwSEAK8ZL"
      }
    },
    {
      "cell_type": "code",
      "source": [
        "x = np.zeros([2, 2, 3])\n",
        "print(x)\n",
        "print(type(x))\n",
        "print(x.shape)\n",
        "x.reshape(3, 2, 2)"
      ],
      "metadata": {
        "colab": {
          "base_uri": "https://localhost:8080/"
        },
        "id": "xSnU0hRGLPeV",
        "outputId": "7e603d02-2f7b-4b0a-fbfe-6507dc8a9ff1"
      },
      "execution_count": null,
      "outputs": [
        {
          "output_type": "stream",
          "name": "stdout",
          "text": [
            "[[[0. 0. 0.]\n",
            "  [0. 0. 0.]]\n",
            "\n",
            " [[0. 0. 0.]\n",
            "  [0. 0. 0.]]]\n",
            "<class 'numpy.ndarray'>\n",
            "(2, 2, 3)\n"
          ]
        },
        {
          "output_type": "execute_result",
          "data": {
            "text/plain": [
              "array([[[0., 0.],\n",
              "        [0., 0.]],\n",
              "\n",
              "       [[0., 0.],\n",
              "        [0., 0.]],\n",
              "\n",
              "       [[0., 0.],\n",
              "        [0., 0.]]])"
            ]
          },
          "metadata": {},
          "execution_count": 9
        }
      ]
    },
    {
      "cell_type": "markdown",
      "source": [
        "**np.zeros**는 array를 숫자 '0'으로 채움. \n",
        "**x.reshape**는 다른 형태로 array를 출력함."
      ],
      "metadata": {
        "id": "bstrBhz4Lh6i"
      }
    },
    {
      "cell_type": "code",
      "source": [
        "np.random.normal(0, 1, [2,3,4])"
      ],
      "metadata": {
        "colab": {
          "base_uri": "https://localhost:8080/"
        },
        "id": "H9EfNTsfO3o2",
        "outputId": "6a0761c1-8a45-4326-9f2e-0e63712c5856"
      },
      "execution_count": null,
      "outputs": [
        {
          "output_type": "execute_result",
          "data": {
            "text/plain": [
              "array([[[ 1.22481552,  0.00239451,  1.88234062, -0.20919574],\n",
              "        [-1.82014897,  0.72014476,  0.8532948 , -0.03804571],\n",
              "        [ 0.7023296 , -0.27230881, -0.24039883, -0.12536681]],\n",
              "\n",
              "       [[ 1.34857087, -0.3598629 , -0.05095079,  0.47895555],\n",
              "        [ 0.14242565, -0.52517768,  0.82476855,  2.0908202 ],\n",
              "        [-0.0308488 , -0.14994694,  0.91470922,  1.87825359]]])"
            ]
          },
          "metadata": {},
          "execution_count": 10
        }
      ]
    },
    {
      "cell_type": "markdown",
      "source": [
        "numpy(패키지) 안에 radom(서브 디렉토리) 안에 normal(함수).\n",
        "(0, 1, [2,3,4])에서 0은 mean(평균) 1은 standard deviation(표준편차)을 뜻함.\n",
        "normal distribution(정규분포)를 이루는 random number(난수)를 nd array로 출력함."
      ],
      "metadata": {
        "id": "0TUeTosdP4hX"
      }
    },
    {
      "cell_type": "code",
      "source": [
        "import matplotlib.pyplot as plt"
      ],
      "metadata": {
        "id": "mZq3aXGXVVih"
      },
      "execution_count": null,
      "outputs": []
    },
    {
      "cell_type": "code",
      "source": [
        "x = np.random.normal(0, 1, 100)\n",
        "print(x)\n",
        "plt.hist(x, bins=10)"
      ],
      "metadata": {
        "colab": {
          "base_uri": "https://localhost:8080/",
          "height": 670
        },
        "id": "MWhHVgZ5VZnN",
        "outputId": "d1f8d058-70c0-47bb-cd4f-2f62d66ebb82"
      },
      "execution_count": null,
      "outputs": [
        {
          "output_type": "stream",
          "name": "stdout",
          "text": [
            "[ 1.14917798 -2.72881466 -1.49524293 -1.16010011 -0.89270712  0.78135422\n",
            "  0.89769207 -0.4631646  -0.79633352 -0.93126155  0.14391619 -1.57901211\n",
            "  0.82729807  2.72530921 -0.86444104  0.31518931  0.47232959 -1.25842776\n",
            " -0.66481076  0.33140446  1.19905812 -0.57551545 -0.9480392  -0.55688101\n",
            "  0.10118294 -0.36934826 -1.51653982  0.1607266  -0.80839667  0.34228818\n",
            " -0.04152031 -0.14073154  0.32282801 -0.8483893   1.46030962 -0.43963289\n",
            " -0.18925518 -1.92889968  0.92155294 -0.08406551 -0.6839088   1.64110329\n",
            "  1.54962588 -0.07702397 -0.98871823  0.77215673 -1.07454687 -0.9569553\n",
            "  0.07568412  0.17194102  0.47434375  0.06674686  1.63632141  0.57286807\n",
            " -0.36413317 -0.94455281  0.41227034 -0.55809218 -0.78568994 -0.7609023\n",
            "  0.97512744  0.15492505 -0.6635393  -1.04761115  0.57583283 -0.30400217\n",
            " -1.43040388 -0.65446542 -0.35556465  1.2489152   0.62629495  0.86738744\n",
            " -0.65779305 -1.62724287 -0.44893118  0.44566584  0.91987249  0.3941291\n",
            "  0.39164961  0.46022259  0.22604305 -0.81413336 -0.1086757  -1.11718973\n",
            "  1.51601967  0.78723642 -0.87348964  0.41339347  0.14335559 -1.58324303\n",
            "  0.38746587 -2.37776283 -2.01507154 -1.46968507 -0.57962056 -0.28620152\n",
            "  0.30324096  0.67423707 -0.12826322  0.70668328]\n"
          ]
        },
        {
          "output_type": "execute_result",
          "data": {
            "text/plain": [
              "(array([ 2.,  2., 10., 25., 15., 23., 14.,  6.,  2.,  1.]),\n",
              " array([-2.72881466e+00, -2.18340228e+00, -1.63798989e+00, -1.09257750e+00,\n",
              "        -5.47165114e-01, -1.75272622e-03,  5.43659661e-01,  1.08907205e+00,\n",
              "         1.63448444e+00,  2.17989682e+00,  2.72530921e+00]),\n",
              " <a list of 10 Patch objects>)"
            ]
          },
          "metadata": {},
          "execution_count": 5
        },
        {
          "output_type": "display_data",
          "data": {
            "text/plain": [
              "<Figure size 432x288 with 1 Axes>"
            ],
            "image/png": "[encoded data removed]"
          },
          "metadata": {
            "needs_background": "light"
          }
        }
      ]
    },
    {
      "cell_type": "markdown",
      "source": [
        "(0, 1, 100)는 100개의 숫자로 이루어진 1d array를 출력함. **plt.hist**는 histogram을 출력함. bins는 히스토그램에 통이 몇 개인지를 의미함."
      ],
      "metadata": {
        "id": "yTYp1a-IWQrO"
      }
    },
    {
      "cell_type": "code",
      "source": [
        "plt.figure()\n",
        "\n",
        "theta1 = np.linspace(0, 2*np.pi, 100)\n",
        "s1 = np.sin(theta1)\n",
        "theta2 = np.linspace(0, 2*np.pi, 100) + np.pi/2\n",
        "s2 = np.sin(theta2)\n",
        "\n",
        "plt.subplot(2, 1, 1)\n",
        "plt.plot(theta1, s1, '.')\n",
        "plt.subplot(2, 1, 2)\n",
        "plt.plot(theta2, s2, '.')"
      ],
      "metadata": {
        "colab": {
          "base_uri": "https://localhost:8080/",
          "height": 283
        },
        "id": "GoC_XRFDXZnc",
        "outputId": "ca6dd1f2-fdc8-40fa-be9d-4f97fc4b27af"
      },
      "execution_count": null,
      "outputs": [
        {
          "output_type": "execute_result",
          "data": {
            "text/plain": [
              "[<matplotlib.lines.Line2D at 0x7ff0c60e1d10>]"
            ]
          },
          "metadata": {},
          "execution_count": 7
        },
        {
          "output_type": "display_data",
          "data": {
            "text/plain": [
              "<Figure size 432x288 with 2 Axes>"
            ],
            "image/png": "[encoded data removed]"
          },
          "metadata": {
            "needs_background": "light"
          }
        }
      ]
    },
    {
      "cell_type": "markdown",
      "source": [
        "**plt.figure**는 그림 틀을 잡아주는 함수임. theta1은 0-360도(2파이) 사이 등간격으로 100개의 수를(radian 값) 가짐. theta2는 90-450도 사이 등간격으로 100개의 수를 가짐. s1과 s2에 포함된 숫자의 개수도 각각 100개임(1차원 array) (theta1, theta2에 포함된 100개의 수를 sin함수에 통과시킨 것)."
      ],
      "metadata": {
        "id": "G8xV9nqW9ChZ"
      }
    },
    {
      "cell_type": "markdown",
      "source": [
        "**plt.subplot(2, 1, 1)**은 2행 1열 중 첫 번 째 그림을 뜻함. **plt.plot(theta1, s1, '.')**은 두 개의 input(x값, y값)과 '.'으로 그림을 그리라는 뜻임."
      ],
      "metadata": {
        "id": "n6vViEC2-7Gr"
      }
    },
    {
      "cell_type": "code",
      "source": [
        "np.corrcoef(s1,s2)"
      ],
      "metadata": {
        "id": "aPl3Q7EJA6Fx",
        "outputId": "83b39b27-f53f-4fe8-b544-f4899d77b277",
        "colab": {
          "base_uri": "https://localhost:8080/"
        }
      },
      "execution_count": null,
      "outputs": [
        {
          "output_type": "execute_result",
          "data": {
            "text/plain": [
              "array([[1.00000000e+00, 2.41915449e-17],\n",
              "       [2.41915449e-17, 1.00000000e+00]])"
            ]
          },
          "metadata": {},
          "execution_count": 8
        }
      ]
    },
    {
      "cell_type": "markdown",
      "source": [
        "**np.corrcoef**는 상관관계가 어느정도인지를 파악하는 함수(Correlation Coefficient). 상관관계를 나타내는 값 r은 -1에서 1 사이의 값으로 상관관계가 높을수록 그 절댓값이 1에 가깝고, 상관관계가 적을수록 0에 가까워짐. 상관관계가 높으면 그래프가 중심에 thin하게 형성되고, 상관관계가 낮으면 그래프에 값들이 퍼져있음."
      ],
      "metadata": {
        "id": "lj2tp86sBluS"
      }
    },
    {
      "cell_type": "markdown",
      "source": [
        "s1과 s2값을 각각 하나씩 짝을 이뤄 그 상관관계를 파악함. 자동으로 나오는 값 1은 무시하고 2.41915449e-17을 보면 됨. e-17은 뒤에 10의 -17승을 곱하라는 뜻임. 즉 s1과 s2의 상관관계 값은 0임."
      ],
      "metadata": {
        "id": "RRY_GwQHCqPh"
      }
    }
  ]
}