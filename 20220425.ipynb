{
  "nbformat": 4,
  "nbformat_minor": 0,
  "metadata": {
    "colab": {
      "name": "Untitled17.ipynb",
      "provenance": [],
      "authorship_tag": "ABX9TyMld2LEsvLDFfVjmmzPTbgK",
      "include_colab_link": true
    },
    "kernelspec": {
      "name": "python3",
      "display_name": "Python 3"
    },
    "language_info": {
      "name": "python"
    }
  },
  "cells": [
    {
      "cell_type": "markdown",
      "metadata": {
        "id": "view-in-github",
        "colab_type": "text"
      },
      "source": [
        "<a href=\"https://colab.research.google.com/github/khan1652/class2022Spring/blob/main/20220425.ipynb\" target=\"_parent\"><img src=\"https://colab.research.google.com/assets/colab-badge.svg\" alt=\"Open In Colab\"/></a>"
      ]
    },
    {
      "cell_type": "markdown",
      "source": [
        "**Autocorrelation**: the correlation of a signal with a delayed copy of itself"
      ],
      "metadata": {
        "id": "pkxQ1Cl8Lde3"
      }
    },
    {
      "cell_type": "markdown",
      "source": [
        "\n",
        "\n",
        "1.   Find the value of the signal at a time t\n",
        "2.   Find the value of the signal at a time t+(delay time)\n",
        "3.   Multiply two values together and repeat the process for all possible times\n",
        "4.   Compute the average of all those products\n",
        "\n",
        "\n"
      ],
      "metadata": {
        "id": "nqpaLp5AOcD7"
      }
    },
    {
      "cell_type": "markdown",
      "source": [
        "**Root Mean Square** (RMS): square root of the mean square (the arithmetic mean of the squares of a set of numbers)"
      ],
      "metadata": {
        "id": "T2TfCV8YPCji"
      }
    }
  ]
}